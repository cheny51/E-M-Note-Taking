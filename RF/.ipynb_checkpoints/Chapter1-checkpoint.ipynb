{
 "cells": [
  {
   "cell_type": "markdown",
   "metadata": {},
   "source": [
    "# RF / MW textbook notes\n",
    "\n",
    "The purpose of this notebook is to capture the important detail I think is worth to note down as I read through the textbook. The name of the textbook is RF circuit design 2nd edition by Reinhold Ludwig."
   ]
  },
  {
   "cell_type": "markdown",
   "metadata": {},
   "source": [
    "# Chapter 1\n",
    "\n",
    "## 1.1 RF Design Preview\n",
    "**Why did the author think is important to study?** Well in the real world, the frequency of the electronic that we are learning in is some hundred kHz, and therefore according to the author:\n",
    "> 1. Wavelengths of the electric signals shorten to a point that affect the functionality of the circuit.\n",
    "> 2. Conventional circuit analysis principles (Kirchoff's theory) fail, we need some thing else to make sense of the world with devices that communicate via large frequency signal.\n",
    "\n",
    "Some terms:\n",
    "1. digital-to-analog converter: convert digital form to analog form\n",
    "2. power amplifier: signal amplifier, assist with communication via the antenna\n",
    "3. input matching network: matching the input impedance and the output impedance to ensure optimal power transfer and eliminate performance degrading reflections.\n",
    "4. interstage matching network: matching output impedance to a second stage input impedance.\n",
    "5. radio frequency chokes: sepraratio nof high-frequency signnals from the DC bias.\n",
    "\n",
    "## 1.2 Dimensions and Units\n",
    "**At which point does coventional circuit analysis theory fail?** We must first understand EM waves.\n",
    "> 1. EM-waves travel in **travnsverse** fashion. This means, electric field wave travel in the x-direction and magnetic field travel in the y-direction. Using the right hand rule, the direction of propagation will be in the z-direction. \n",
    "$$E_x = E_{0x}\\cos{(wt-\\beta z)}\\quad \\frac{V}{m}\\\\\n",
    "  H_y = H_{0y}\\cos{(wt-\\beta z)}\\quad \\frac{A}{m}\\\\\n",
    "  \\text{notice that the sign inside the cosine term give propagation direction}$$\n",
    "> 2. To read into the EM-Wave equation a bit, the angular frequency and the propagation constant can give you 3 more pieces of information about the EM-wave. One is the **wavelength**($\\lambda$) and second is the **intrinsic impedance**($Z_o$). And the last one is phase velocity.\n",
    "$$\\lambda = \\frac{2\\pi}{\\beta} \\quad m\\\\\n",
    "  Z_o = \\frac{E_x}{H_y} = \\sqrt{\\mu_0 \\mu_r / \\epsilon_o \\epsilon_r} = 377 \\sqrt{\\mu_r / \\epsilon_r} \\quad \\Omega \\\\\n",
    "  \\mu_r \\text{ and } \\epsilon_r \\text{ are relative permeability and permittivity of the material} \\\\\n",
    "  v_p = \\frac{w}{\\beta} = \\frac{1}{\\sqrt{\\epsilon \\mu}} = \\frac{c}{\\sqrt{\\epsilon_r}} \\quad \\frac{m}{s} \\quad \\text{assume in nonmagnectic spectrum}$$\n",
    "> 3. The EM-waves in the RF-domain are always transverse, so they are being categorized as the **transverse electromagnetic mode** (TEM). Which means, the field vector of TEM are always perpendicular to the direction of propagation. Other mode? Not necessarily.\n",
    "\n",
    "## 1.4 RF Behavior of Passive Component\n",
    "**What assumption can we make about the behavior of capacitor and inductor when facing low frequency signal?** Let's look at how frequency play a role in the impedance.\n",
    "\n",
    "> 1. At low frequency, the reactance of capacitor (1pF) and inductor (1nH) is:\n",
    "$$ X_C = - \\frac{1}{wc} = - \\frac{1}{2\\pi*60*10^{-12}} \\approx \\inf \\quad \\Omega \\\\\n",
    "   X_L = wL = 2\\pi*60*10^{-9} \\approx 0 \\quad \\Omega\n",
    "$$\n",
    "> 2. In reality, when circuit was build on a board with metal traces, there's some frequenct-dependent resistance ($R_{DC}$) that might need to be accounted for (in DC). But, in AC, there's the current density as a result of magnetic field induce electric field ($J_{z}$). Go to page 11 in the text to find those equations. \n",
    "> 3. There's some external inductance and internal inductance detail, but too outside of the scope of the class, go read if interested.\n",
    "\n",
    "### 1.4.1 Resistor at High Frequency\n",
    "**In a circuit with resistor in parallel with capacitor and lead and end by inductors, how does frequency affect the impedance?** Let's look at how it can have an effect!\n",
    "[incomplete the note]\n",
    "> 1. At low frequency, impedance of RC parallel structure is equal to R using the $C_{eff}$ observation. However at high frequency (very high frequency), the capacitor impedance will eventually take over, which cause the impedance of the resistor to be relatively smaller and smaller. \n",
    "\n",
    "### 1.4.2 Capacitor at High Frequency\n",
    "At high frequency, capacitor plays an important role in:\n",
    "1. Tuning filters\n",
    "2. Matching networks\n",
    "3. Biasing circuits for active components\n",
    "> **What we know from the basic?** Capacitance can be calculated when the plate dimension is larger than the plate's separation: $$C=\\frac{\\epsilon A}{d} = \\epsilon_0 \\epsilon_r \\frac{A}{d}$$\n",
    "> **What new knowledge we need to take from here?** The capacitance equation above assumes that there's no current flowing in the dielectric material. At high frequency, however, there is current flowing through the dielectric material (or now it's lossy). Therefore there's **the new capacitor impedance, new capacitor conductance, and dielectric loss resistance (parallel leakage resistance)**: \n",
    "$$\\begin{align}\n",
    "   Z_{capacitor}&=\\frac{1}{G_e + jwC} \\quad F\\\\\n",
    "   G_e &= \\frac{\\sigma_{diel}A}{d} = \\frac{w\\epsilon A}{d}\\tan{\\Delta}=wC\\tan{\\Delta} \\quad \\Omega^{-1}\\\\\n",
    "   R_e &= \\frac{1}{G_e} \\quad \\Omega\n",
    "  \\end{align}\n",
    "$$\n",
    "\n",
    "On many datasheet, equivalent series resistance (ESR) is used to evaluate capacitor. $$ESR=\\frac{\\tan{\\Delta}}{wC}$$ The loss tangent give you how the presence of current in the dielectric-material (where dielectric material is lossy) can increase the ESR when frequency is large. This also means that as $\\tan{\\Delta} \\rightarrow 0$ the ESR is also approach 0.\n",
    "> Also capacitor is temperature dependent -- Intro to Electronic\n",
    "\n",
    "### 1.4.3 Inductors at High Frequency\n",
    "At high frequency, inductor plays an important role in:\n",
    "1. \n"
   ]
  },
  {
   "cell_type": "markdown",
   "metadata": {},
   "source": []
  }
 ],
 "metadata": {
  "kernelspec": {
   "display_name": "Python 3",
   "language": "python",
   "name": "python3"
  },
  "language_info": {
   "codemirror_mode": {
    "name": "ipython",
    "version": 3
   },
   "file_extension": ".py",
   "mimetype": "text/x-python",
   "name": "python",
   "nbconvert_exporter": "python",
   "pygments_lexer": "ipython3",
   "version": "3.7.3"
  }
 },
 "nbformat": 4,
 "nbformat_minor": 2
}
