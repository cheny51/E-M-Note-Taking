{
 "cells": [
  {
   "cell_type": "markdown",
   "metadata": {},
   "source": [
    "# Chapter 2\n",
    "\n",
    "## Chapter 2.1 Why Transmission Line Theory?\n",
    "Let say you got a generator EM signal ($V(z,t)$): $$V(z,t)=V_o\\sin{(wt-\\beta z)}$$\n",
    "And from here you can find out the phase velocity: $$v_p=\\frac{w}{\\beta}=\\lambda f=\\frac{1}{\\sqrt{\\epsilon \\mu}}=\\frac{c}{\\sqrt{\\epsilon_r \\mu_r}} \\quad \\frac{m}{s}$$\n",
    "\n",
    "And now you connect the generator signal with a wire (with wire resistance being neglible)"
   ]
  },
  {
   "cell_type": "markdown",
   "metadata": {},
   "source": [
    "> **Case 1**: Let's assume $f=$ 1 MHz, $\\epsilon_r=10$, $\\mu_r=1$. Using these information you will get that $$v_p=9.5\\times 10^7 \\quad ms^{-1}\\\\\n",
    "  \\lambda_{case1} = 94.86 \\quad m $$\n",
    "Now let's put the voltage generator ($V_g = V(z,t)$) to be the source as the circuit, and there's internal resistance ($R_s$) being attached to a source, and there's a 1.5 cm wire connecting $V_g$ and the load. The 1.5 cm and 1 MHz signal does not make an significant variation in voltage along the transmission line.\n",
    "\n",
    "> **Case 2**: Same as case 1 but now increase the $f$ to 10 GHz. What happen now is that\n",
    "$$\\lambda_{case2} = 0.949 \\lt\\lt \\lambda_{case1} \\quad cm$$\n",
    "Using what we know about convention circuit theory, we know this closed loop voltage must sum up to 0. However, if you probe at the voltage leaving right after the internal resistance (around 0cm) and one right end (around 1.49cm), you will see that the two signals detected are at a phase shift. \n",
    "\n",
    "What you should now be aware is that the traditional Kirchhoff's law work brilliantly **if** the loss of information happening along the wire is neglible. But if the loss of information is non-neglible, then the Kirchoff's law cannot be used (aka you cannot analyze the entire circuit at once).\n",
    "> **Transition: Lumped to Distributed Theory** If the characteristic sizes of the circuit elements exceeds approximately 1/10 of the electromagnetic wavelength, Kirchhoff's law must be replaced with a distributed wave theory. $$l_A \\gt= \\lambda/10$$\n",
    "\n",
    "*Distributed Theory* means now you should analyze case 2's circuit by looking at how the signal behave at different location on the wire. Signal might behave like A at position $z=0$ but might behave like B at position $z=1$ and so on. So now you will be looking at the equivalent circuit representation at small $\\Delta z$ on the transmission line building the circuit. In each segment (or position along the time), the circuit will be in terms of distributed parameter (differential) R,L,C,G with a unit of per unit length. \n",
    "\n",
    "For case 1: The frequency ($f_{transition}$) before one need to analyze the cirucit using the distributed theory is \n",
    "$$\\begin{align}\n",
    "    \\lambda &= 10\\times l_A \\quad m \\\\\n",
    "    v_p &= \\lambda \\times f_{transition} \\quad ms^{-1} \\\\\n",
    "    f_{transition} &= v_p / \\lambda = v_p / (10l_A) = 633 \\quad MHz\n",
    "   \\end{align}$$\n",
    "Therefore, if the frequency is way larger than 633 MHz, the information loss happening along the transmission line as signal travel from the source to the load must be accounted in the computation. "
   ]
  },
  {
   "cell_type": "markdown",
   "metadata": {},
   "source": [
    "## Chapter 2.2 Examples of Transmission Line\n",
    "\n",
    "### 2.2.1 Two-Wire Lines\n",
    "The biggest drawback of this type of wire is that there's a huge loss in high frequency voltage and current waves. The loss (or influence to the transmitting signal) occur as the electrical and magnetic field line can extend to infinity. But it works really well in the past since we only apply it to 50-60 Hz power lines and local telephone connection. \n",
    "\n",
    "### 2.2.2 Coaxial Line\n",
    "\n",
    "This is a more common transmission line. It is widely used in RF system, capable of operating with frequency up until 40 GHz. Quick description of the structure is in the quote below. The strong point about this T-line is that the outer conductor now limit the spread of the electromagnetic field. Thus, radiation loss is reduced and field interferance is reduced. \n",
    "> There are 2 conductors. The inner conductor and the outer conductor (which enclosed the inner one). There's a space/medium between the 2 conductor. \n",
    "\n",
    "### 2.2.3 Microstrip Line\n",
    "This is more common with printed circuit board. The configuration can be in 2 ways: single-layer PCB and double-layer PCB. \n",
    "> The single layer PCB means there's only 2 layer, the circuit and then the dielectric layer. It is prone to a high radiation loss. And this is substrate-dependent.\n",
    "\n",
    "> The radiation loss and information quality can be enhanced by doing a double-layer PCB: dielectric -> circuit -> dielectic. \n",
    "\n",
    "## 2.3 Equivalent Circuit Representation\n",
    "**So what do we do if now voltage/current varies as signal travel down the T-line?** Well, we know that since voltage and current are no longer **spatially (on the transmission line) constant**, we must realize Kirchhoff's laws cannot be used to acurately analyze the circuit. To analyze the circuit now, we must look at the electrical characteristics such as loss, inductive and capacitive line effects at each segment of the T-line. \n",
    "> The distributed (differential) parameters are important here. Resistor and inductor are in series usually [inductive effect], the charge separation by conductor 1 and 2 make capacitive effect (thus capacitor), and the dielectric suffer losses, conductance G. And Figure 2-12 on the textbook show the generic form of electric equivalent circuit."
   ]
  },
  {
   "cell_type": "markdown",
   "metadata": {},
   "source": [
    "## 2.4 Theoretical Foundation\n",
    "### 2.4.1 Basic Law\n",
    "**How to calculate those distributed parameters?** We can use Faraday's law and the Ampere's Law.\n",
    "> The electric field give rise to magnetic field (Faraday's law), while the magnetic field give rise to the electric field.\n",
    "\n",
    "#### Ampere's Law\n",
    "**What does this law states?** The moving charges (current) through a wire (as can be calculated with electric field parameters) can be used to compute rotating magnetic field that is being generated. AKA- you know electric field and you want to find out the magnetic field.\n",
    "$$I = \\oint{\\vec{H}}\\cdot d\\vec{l} = \\iint \\vec{J}\\cdot d\\vec{S}$$\n",
    "\n",
    "Let $H$ be the magnetic field along the wire line with length $L$ and let $J$ be the current density found on one section $S$ of the wire.\n",
    "\n",
    "Another form, which employ matrix, can help with looking at this formula from another perspective.\n",
    "\n",
    "Like this:\n",
    "$$\n",
    "\\begin{align}\n",
    "  \\nabla \\times \\vec{H}                               &= \\vec{J} \\\\\n",
    "  \\begin{vmatrix}\n",
    "      i & j & k \\\\\n",
    "      \\frac{\\partial}{\\partial x} & \\frac{\\partial}{\\partial y} & \\frac{\\partial}{\\partial z} \\\\\n",
    "      H_x & H_y  & H_z \n",
    "  \\end{vmatrix}                                       &= \\vec{J}\n",
    "\\end{align}\n",
    "$$\n",
    "\n",
    "Or like this:\n",
    "$$\n",
    "\\nabla \\times \\vec{H} = \\begin{bmatrix}\n",
    "                            0 & -\\frac{\\partial}{\\partial z} & \\frac{\\partial}{dy} \\\\\n",
    "                            \\frac{\\partial}{\\partial z} & 0 & -\\frac{\\partial}{\\partial x} \\\\\n",
    "                            -\\frac{\\partial}{\\partial y} & \\frac{\\partial}{\\partial x} & 0\n",
    "                        \\end{bmatrix}\n",
    "                        \\begin{Bmatrix}\n",
    "                            H_x \\\\ H_y \\\\ H_z\n",
    "                        \\end{Bmatrix}\n",
    "                        =\n",
    "                        \\begin{Bmatrix}\n",
    "                            J_x \\\\ J_y \\\\ J_z\n",
    "                        \\end{Bmatrix}\n",
    "$$"
   ]
  },
  {
   "cell_type": "markdown",
   "metadata": {},
   "source": [
    "#### Faraday's Law\n",
    "**What does this law states?** The time rate of change of the magnetic flux density can be used to compute the electric field that is being generated. AKA - you know magnetic field and you want to find out the electric field.\n",
    "$$\\oint{\\vec{E}\\cdot d\\vec{l}}=-\\frac{d}{dt}\\iint{\\vec{B}\\cdot d\\vec{S}}$$\n",
    "where $\\vec{B}$ is the magnetic density that is calculated by $$\\vec{B}=\\mu \\vec{H}$$"
   ]
  },
  {
   "cell_type": "markdown",
   "metadata": {},
   "source": [
    "Another form, which employ matrix, can help with looking at this formula from another perspective.\n",
    "\n",
    "Like this:\n",
    "$$\\nabla \\times \\vec{E} = -\\frac{\\partial \\vec{B}}{\\partial t}$$"
   ]
  },
  {
   "cell_type": "markdown",
   "metadata": {},
   "source": [
    "Also, side note, because of this law is saying electric field is running along a wire loop (line $l$), voltage is being induced.$$V=-(\\nabla \\times \\vec{E})=\\frac{\\partial \\vec{B}}{\\partial t}$$"
   ]
  },
  {
   "cell_type": "markdown",
   "metadata": {},
   "source": [
    "## 2.5 Circuit Parameters for a Parallel-Plate T-Line\n",
    "Read this section if you are interested to understand how the internal inducance and resistance are calculated straight from way back to only knowing both Laws and the dielectric constant permitivity permeability."
   ]
  },
  {
   "cell_type": "markdown",
   "metadata": {},
   "source": [
    "## 2.6 Summary of Different Line Configuration\n",
    "[see Table2-1] for more information. "
   ]
  },
  {
   "cell_type": "markdown",
   "metadata": {},
   "source": [
    "## 2.7 General Transmission Line Equation\n",
    "### 2.7.1 Kirchhoff Voltage and Curren Law Representation\n",
    "Let's look the circuit of 1 segment of the wire (the circuit at z=0).\n",
    "[Insert Figure2-17 here] "
   ]
  },
  {
   "cell_type": "markdown",
   "metadata": {},
   "source": [
    "Using the Kirchhoff's laws, a voltage and current 1st order differential equation can be established\n",
    "$$\n",
    "-\\frac{dV(z)}{dz}=(R+jwL)I(z)\\\\\n",
    "-\\frac{dI(z)}{dz}=(G+jwC)V(z)\n",
    "$$"
   ]
  },
  {
   "cell_type": "markdown",
   "metadata": {},
   "source": [
    "#### Summary of example 2-4:\n",
    "Establish the transmission line equations for the parallel-plate conductor.\n",
    "[Insert Figure 2-18].\n",
    "\n",
    "**How did the author sum up all the electrical field being generated by this type of T-line using Faraday's law?** Look at the circuit setup closely!!. \n",
    "\n",
    "$$\\begin{align}\n",
    "&\\because \\oint{\\vec{E}\\cdot d\\vec{l}} = E_z^1\\Delta z+E_z^2\\Delta z+E_x(z+\\Delta z)d-E_x(z)d\\\\\n",
    "&\\because \\iint{\\mu \\vec{H}\\cdot d\\vec{S}} = \\mu H_y\\Delta zd\\\\\n",
    "&\\therefore E_z^1\\Delta z+E_z^2\\Delta z+E_x(z+\\Delta z)d-E_x(z)d = -\\frac{d}{dt}\\mu H_y\\Delta zd\n",
    "\\end{align}$$\n",
    "\n",
    "See [Picture 227-2] for clear explaination on how the line integral was set up to fit the LHS of the Faraday's law.\n",
    "The RHS of the Faraday's law is pretty obvious, everything is given and the magnetic field is only in 1 direction. \n",
    "\n",
    "And read page 64 to see how it can be derived to the voltage 1st order differential equation above"
   ]
  },
  {
   "cell_type": "markdown",
   "metadata": {},
   "source": [
    "**How did the author sum up all the electrical field being generated by this type of T-line using Ampere's law?** Look at the circuit setup closely!!. \n"
   ]
  },
  {
   "cell_type": "markdown",
   "metadata": {},
   "source": [
    "First, the magnetic field is only in the y-direction. Second, by the Ampere's law, the direction of the field is perpendicular to the current direction. Therefore, the path line intergral path should be the width of the plate (w). And direction is the same eventhough the arrow is opposite (think about the cross product and the wrapping rule).\n",
    "$$\n",
    "\\begin{align}\n",
    "&\\because \\oint{\\vec{H}\\cdot d\\vec{l}}=-H_y(z+\\Delta z)w+H_y(z)w=-I(z+\\Delta z)+I(z)\\\\\n",
    "&\\because \\iint{\\vec{J}\\cdot d\\vec{S}}=J_x\\Delta zw \\\\\n",
    "&\\therefore \\text{see page 65 to see how to derive it to the current 1st order equation above}\n",
    "\\end{align}\n",
    "$$"
   ]
  },
  {
   "cell_type": "markdown",
   "metadata": {},
   "source": [
    "### 2.7.2 Traveling Voltage and Current Waves\n",
    "**How can we solve those first 2 1st ODE eqs?** Too many unknown, let's uncouple them."
   ]
  },
  {
   "cell_type": "markdown",
   "metadata": {},
   "source": [
    "$$\n",
    "\\begin{align}\n",
    "    &\\because \\frac{\\partial}{\\partial z}(\\frac{\\partial \\tilde{V}(z)}{\\partial z} = -\\tilde{I}(z)(R'+L'jw)) \\quad \\text{take derivative of the voltage equation} \\\\\n",
    "    &\\because \\frac{\\partial^2 \\tilde{V}(z)}{\\partial z^2} = \\frac{\\partial \\tilde{I}(z)}{\\partial z}(R'+L'jw) \\quad \\text{now replace the differential-current term with the current equation and simplify}\\\\\n",
    "    &\\because \\frac{\\partial^2 \\tilde{V}(z)}{\\partial z^2} - \\tilde{V}(z)(G'+C'jw)(R'+L'jw) = 0 \\\\\n",
    "    &\\therefore \\frac{\\partial^2 \\tilde{V}(z)}{\\partial z^2} - \\gamma^2\\tilde{V}(z) = 0 \\\\\n",
    "    &\\text{Or if you started with differentiating the current differential equation...} \\\\\n",
    "    &\\therefore \\frac{\\partial^2 \\tilde{I}(z)}{\\partial z^2} - \\gamma^2\\tilde{I}(z) = 0\n",
    "\\end{align}\n",
    "$$"
   ]
  },
  {
   "cell_type": "markdown",
   "metadata": {},
   "source": [
    "It's the similar procedure for the current equation too and you will get a similar result where you get the same $\\gamma^2$ term. We call the $\\gamma$ a **complex propagation constant** $$\\gamma = \\alpha+j\\beta = \\sqrt{(R+jwL)(G+jwC}$$"
   ]
  },
  {
   "cell_type": "markdown",
   "metadata": {},
   "source": [
    "The solution to the 1st order voltage differential equation with the inclusion of the $\\gamma$ term would be \n",
    "$$V(z)=V^{+}e^{-\\gamma z}+V^{-}e^{+\\gamma z}$$"
   ]
  },
  {
   "cell_type": "markdown",
   "metadata": {},
   "source": [
    "The solution to the 1st order current differential equation with the inclusin of the $\\gamma$ term would be \n",
    "$$I(z)=I^{+}e^{-\\gamma z}+I^{-}e^{+\\gamma z}$$"
   ]
  },
  {
   "cell_type": "markdown",
   "metadata": {},
   "source": [
    "> According to the author, here's how to interpret the signs. The first term represent wavefront propagating in the +z-direction, the second term in the -z-direction. The negative sign in conjunction with $\\beta$. $\\alpha$ >0 ensures diminishing amplitudes for the positive traveling wave. Negative traveling waves are attenuated due to the diminishing exponential term. "
   ]
  },
  {
   "cell_type": "markdown",
   "metadata": {},
   "source": [
    "### 2.7.3 Characteristic Impedance\n",
    "**Too many unknowns still, can we reduce more?** Let's relate the current and voltage similar to Ohm's law."
   ]
  },
  {
   "cell_type": "markdown",
   "metadata": {},
   "source": [
    "$$\n",
    "\\begin{align}\n",
    "&\\because \\frac{dV(z)}{dz}=-(R+jwL)I(z) \\quad \\text{subtitute V(z) with the V(z) general solution}\\\\\n",
    "&\\because V(z)=V^{+}e^{-\\gamma z}+V^{-}e^{+\\gamma z} \\\\\n",
    "&\\because \\frac{d(V^{+}e^{-\\gamma z}+V^{-}e^{+\\gamma z})}{dz}=-(R+jwL)I(z) \\\\\n",
    "&\\because \\frac{-1}{R+jwL}\\frac{d(V^{+}e^{-\\gamma z}+V^{-}e^{+\\gamma z})}{dz} = I(z) \\\\\n",
    "&\\because \\frac{-1}{R+jwL}(-V^{+}e^{-\\gamma z}+V^{-}e^{+\\gamma z})\\gamma = I(z) \\\\\n",
    "&\\because I(z) = \\frac{-\\gamma}{R+jwL}(-V^{+}e^{-\\gamma z}+V^{-}e^{+\\gamma z})\\\\\n",
    "&\\therefore I(z) = \\frac{\\gamma}{R+jwL}(V^{+}e^{-\\gamma z}-V^{-}e^{+\\gamma z})\n",
    "\\end{align}\n",
    "$$"
   ]
  },
  {
   "cell_type": "markdown",
   "metadata": {},
   "source": [
    "There's a relationship between $I(z)$ and voltage, which is that fraction. And we call that fraction the **Characteristic line impedance** $Z_0$\n",
    "$$\n",
    "\\begin{align}\n",
    "&\\because Z_0 = \\frac{R+jwL}{\\gamma} = \\sqrt{\\frac{R+jwL}{G+jwC}} \\\\\n",
    "&\\therefore I(z)Z_0 = V(z)\n",
    "\\end{align}$$"
   ]
  },
  {
   "cell_type": "markdown",
   "metadata": {},
   "source": [
    "And by mere observation, subbing the general solution for $I(z)$ and $V(z)$ you will get the following relationship.\n",
    "$$\n",
    "Z_0 = \\frac{V^+}{I^+} = -\\frac{V^-}{I^-}\n",
    "$$"
   ]
  },
  {
   "cell_type": "markdown",
   "metadata": {},
   "source": [
    "> $Z_0$ is not an impedance in the conventional circuit! Its definition is based on the positive and negative traveling voltage and current waves. It is not the total voltage and current expression used to define a conventional circuit impedance."
   ]
  },
  {
   "cell_type": "markdown",
   "metadata": {},
   "source": [
    "### 2.7.4 Lossless Transmission Line Model\n",
    "**What can be learned from the previous section?** The impedance formula described in 2.7.3 tells us that to analyze any circuit on a real transmission line there's always some line impedance. \n",
    "\n",
    "But, for RF/MW circuits, the impedance is not significant enough to cause huge calculation error and it's safe to assume lossless condition (G=R=0). \n",
    "$$\n",
    "\\begin{align}\n",
    "    &\\because R \\approx G \\approx 0 \\\\\n",
    "    &\\therefore Z_0 = \\sqrt{L/C} \\quad \\beta = w\\sqrt{LC}\n",
    "\\end{align}$$"
   ]
  },
  {
   "cell_type": "markdown",
   "metadata": {},
   "source": [
    "## 2.8 Microstrip T-line\n",
    "There's few equations but not important enough here (I think it's just memorization) for the characteristic of impedance dielectric constant for microstrip t-line. Look at it if needed to."
   ]
  },
  {
   "cell_type": "markdown",
   "metadata": {},
   "source": [
    "## 2.9 Terminated Lossless T-line\n",
    "### 2.9.1 Voltage Reflection Constant $\\Gamma$"
   ]
  },
  {
   "cell_type": "markdown",
   "metadata": {},
   "source": [
    "**Ok, let's now analyze a circuit with the consideratin of transmission line** And notice how we locate the wave equations for the circuit"
   ]
  },
  {
   "cell_type": "markdown",
   "metadata": {},
   "source": [
    "Let's imagine that there's a circuit like in [Figure 2-23]. There's a incident wave coming from the source to the load. There's a reflected wave coming from the load to the source. Let us define a ratio of the reflected to the incident voltage wave called **reflection coefficient $\\Gamma_0$**.$$\\Gamma_0 = \\frac{V^-}{V^+}$$"
   ]
  },
  {
   "cell_type": "code",
   "execution_count": null,
   "metadata": {},
   "outputs": [],
   "source": []
  }
 ],
 "metadata": {
  "kernelspec": {
   "display_name": "Python 3",
   "language": "python",
   "name": "python3"
  },
  "language_info": {
   "codemirror_mode": {
    "name": "ipython",
    "version": 3
   },
   "file_extension": ".py",
   "mimetype": "text/x-python",
   "name": "python",
   "nbconvert_exporter": "python",
   "pygments_lexer": "ipython3",
   "version": "3.7.3"
  }
 },
 "nbformat": 4,
 "nbformat_minor": 2
}
